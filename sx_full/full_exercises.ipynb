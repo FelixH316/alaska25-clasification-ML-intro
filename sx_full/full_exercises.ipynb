{
 "cells": [
  {
   "cell_type": "markdown",
   "id": "f7ad6769",
   "metadata": {},
   "source": [
    "Desafrio S1\n",
    "\n",
    "Después de estudiar los conceptos de esta clase, ¡ha llegado el momento de practicar!\n",
    "\n",
    "Vamos a practicar lo que se presentó en la clase a partir de algunas actividades, pero utilizando un conjunto de datos diferente al presentado en la clase. El tema de la base de datos es la de churn de clientes. El churn es una métrica que indica a los clientes que cancelan el servicio en un determinado período de tiempo.\n",
    "\n",
    "Los desafíos siguen una secuencia de tareas, sirviendo como un proyecto secundario, que se realizará a lo largo de las clases del curso. Para realizar los desafíos, descarga la Base de datos - Desafío.\n",
    "\n",
    "1 - La primera etapa en un proyecto de Machine Learning es la obtención de datos. A partir de esta obtención, podemos leer los datos para construir un modelo. Como tarea inicial, realiza la lectura de la base de datos y verifica la presencia de datos nulos. Además, elimina la columna 'id_cliente', ya que este tipo de información única para cada fila no es útil para su uso en modelos de machine learning.\n",
    "\n",
    "2 - Después de leer los datos, es importante conocer los datos, revisando inconsistencias y entendiendo el comportamiento de cada una de las columnas. En esta tarea, realiza un análisis exploratorio utilizando gráficos para las variables categóricas de la base de datos, incluyendo la variable objetivo churn. Para estas variables, se pueden utilizar gráficos de barras para contar las categorías y hacer un agrupamiento por colores de acuerdo con las categorías de la variable objetivo.\n",
    "\n",
    "3 - Después de explorar las variables categóricas, es el turno de las variables numéricas. Construye gráficos de distribución como boxplots o histogramas para analizar el comportamiento de los valores numéricos y verificar si hay valores inconsistentes.\n",
    "\n",
    "Recuerda que la práctica es fundamental para mejorar tus habilidades en Machine Learning. Con cada actividad, estarás un paso más cerca de dominar este campo de la tecnología. Utiliza los recursos disponibles, colabora con tus compañeros y no tengas miedo de cometer errores. Después de todo, es con los desafíos que crecemos.\n",
    "\n",
    "Base de datos\n",
    "    https://github.com/alura-es-cursos/2160-aprendiendo-a-clasificar-datos-con-ml/blob/desafio/churn.csv\n"
   ]
  },
  {
   "cell_type": "markdown",
   "id": "c9e973ae",
   "metadata": {},
   "source": [
    "Instructor"
   ]
  },
  {
   "cell_type": "markdown",
   "id": "1b40b0a9",
   "metadata": {},
   "source": [
    "Gráfico de la columna país:"
   ]
  },
  {
   "cell_type": "code",
   "execution_count": null,
   "id": "0abc9e0e",
   "metadata": {},
   "outputs": [],
   "source": [
    "px.histogram(datos, x = 'pais', text_auto = True, color = 'churn', barmode = 'group')"
   ]
  },
  {
   "cell_type": "code",
   "execution_count": null,
   "id": "df03be29",
   "metadata": {},
   "outputs": [],
   "source": [
    "px.histogram(datos, x = 'sexo_biologico', text_auto = True, color = 'churn', barmode = 'group')"
   ]
  },
  {
   "cell_type": "code",
   "execution_count": null,
   "id": "8c4fb264",
   "metadata": {},
   "outputs": [],
   "source": [
    "px.histogram(datos, x = 'tiene_tarjeta_credito', text_auto = True, color = 'churn', barmode = 'group')"
   ]
  },
  {
   "cell_type": "code",
   "execution_count": null,
   "id": "3fbd68af",
   "metadata": {},
   "outputs": [],
   "source": [
    "px.histogram(datos, x = 'miembro_activo', text_auto = True, color = 'churn', barmode = 'group')"
   ]
  },
  {
   "cell_type": "markdown",
   "id": "86be290a",
   "metadata": {},
   "source": [
    "# S2 03\n",
    "\n",
    "Documentación\n",
    "    https://scikit-learn.org/stable/index.html"
   ]
  },
  {
   "cell_type": "markdown",
   "id": "c2965284",
   "metadata": {},
   "source": [
    "# Desafio S2 Transform\n",
    "\n",
    "Después de estudiar los conceptos de esta clase, ¡ha llegado el momento de practicar!\n",
    "\n",
    "Vamos a practicar lo que se presentó en la clase a partir de algunas actividades, pero utilizando un conjunto de datos diferente al presentado en la clase. El tema de la base de datos es la de churn de clientes. El churn es una métrica que indica a los clientes que cancelan el servicio en un determinado período de tiempo.\n",
    "\n",
    "Los desafíos siguen una secuencia de tareas, sirviendo como un proyecto secundario, que se realizará a lo largo de las clases del curso. Para realizar los desafíos, descarga la Base de datos - Desafío.\n",
    "\n",
    "Para utilizar los datos en los algoritmos de Machine Learning, necesitamos informar cuáles son las variables explicativas y cuál es la variable objetivo. En este desafío, realiza la separación de la base de datos de churn entre las variables explicativas, almacenando en una variable x y la variable objetivo en y.\n",
    "Las variables categóricas que están en formato de texto no pueden ser utilizadas directamente en los modelos de Machine Learning. En este desafío, realiza la transformación de las variables categóricas al formato numérico utilizando el OneHotEncoder, utilizando el parámetro drop='if_binary' si alguna variable tiene solo 2 categorías.\n",
    "La variable objetivo, como es de tipo categórica, también necesita pasar por un tratamiento similar al de las variables explicativas categóricas para que pueda ser utilizada en los algoritmos. En esta tarea, utiliza el método LabelEncoder para realizar la transformación de la variable churn.\n",
    "La búsqueda de la solución a cualquier desafío comienza con la exploración y comprensión profunda del problema. Tómate un tiempo para comprender la necesidad de cada cuestión y desarrolla, con base en tu aprendizaje, las posibles soluciones. Además, recuerda que la práctica constante es la clave para el perfeccionamiento. A medida que aplicas lo que aprendes, los conceptos se solidifican y se convierten en parte de tu conocimiento práctico.\n",
    "\n",
    "Base de datos\n",
    "    https://github.com/alura-es-cursos/2160-aprendiendo-a-clasificar-datos-con-ml/blob/desafio/churn.csv"
   ]
  },
  {
   "cell_type": "markdown",
   "id": "94e27d4b",
   "metadata": {},
   "source": []
  }
 ],
 "metadata": {
  "language_info": {
   "name": "python"
  }
 },
 "nbformat": 4,
 "nbformat_minor": 5
}
