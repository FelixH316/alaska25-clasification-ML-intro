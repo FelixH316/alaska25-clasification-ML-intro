{
 "cells": [
  {
   "cell_type": "markdown",
   "id": "f7ad6769",
   "metadata": {},
   "source": [
    "Desafrio S1\n",
    "\n",
    "Después de estudiar los conceptos de esta clase, ¡ha llegado el momento de practicar!\n",
    "\n",
    "Vamos a practicar lo que se presentó en la clase a partir de algunas actividades, pero utilizando un conjunto de datos diferente al presentado en la clase. El tema de la base de datos es la de churn de clientes. El churn es una métrica que indica a los clientes que cancelan el servicio en un determinado período de tiempo.\n",
    "\n",
    "Los desafíos siguen una secuencia de tareas, sirviendo como un proyecto secundario, que se realizará a lo largo de las clases del curso. Para realizar los desafíos, descarga la Base de datos - Desafío.\n",
    "\n",
    "1 - La primera etapa en un proyecto de Machine Learning es la obtención de datos. A partir de esta obtención, podemos leer los datos para construir un modelo. Como tarea inicial, realiza la lectura de la base de datos y verifica la presencia de datos nulos. Además, elimina la columna 'id_cliente', ya que este tipo de información única para cada fila no es útil para su uso en modelos de machine learning.\n",
    "\n",
    "2 - Después de leer los datos, es importante conocer los datos, revisando inconsistencias y entendiendo el comportamiento de cada una de las columnas. En esta tarea, realiza un análisis exploratorio utilizando gráficos para las variables categóricas de la base de datos, incluyendo la variable objetivo churn. Para estas variables, se pueden utilizar gráficos de barras para contar las categorías y hacer un agrupamiento por colores de acuerdo con las categorías de la variable objetivo.\n",
    "\n",
    "3 - Después de explorar las variables categóricas, es el turno de las variables numéricas. Construye gráficos de distribución como boxplots o histogramas para analizar el comportamiento de los valores numéricos y verificar si hay valores inconsistentes.\n",
    "\n",
    "Recuerda que la práctica es fundamental para mejorar tus habilidades en Machine Learning. Con cada actividad, estarás un paso más cerca de dominar este campo de la tecnología. Utiliza los recursos disponibles, colabora con tus compañeros y no tengas miedo de cometer errores. Después de todo, es con los desafíos que crecemos.\n",
    "\n",
    "Base de datos\n",
    "    https://github.com/alura-es-cursos/2160-aprendiendo-a-clasificar-datos-con-ml/blob/desafio/churn.csv\n"
   ]
  },
  {
   "cell_type": "markdown",
   "id": "c9e973ae",
   "metadata": {},
   "source": [
    "Instructor"
   ]
  },
  {
   "cell_type": "markdown",
   "id": "1b40b0a9",
   "metadata": {},
   "source": [
    "Gráfico de la columna país:"
   ]
  },
  {
   "cell_type": "code",
   "execution_count": null,
   "id": "0abc9e0e",
   "metadata": {},
   "outputs": [],
   "source": [
    "px.histogram(datos, x = 'pais', text_auto = True, color = 'churn', barmode = 'group')"
   ]
  },
  {
   "cell_type": "code",
   "execution_count": null,
   "id": "df03be29",
   "metadata": {},
   "outputs": [],
   "source": [
    "px.histogram(datos, x = 'sexo_biologico', text_auto = True, color = 'churn', barmode = 'group')"
   ]
  },
  {
   "cell_type": "code",
   "execution_count": null,
   "id": "8c4fb264",
   "metadata": {},
   "outputs": [],
   "source": [
    "px.histogram(datos, x = 'tiene_tarjeta_credito', text_auto = True, color = 'churn', barmode = 'group')"
   ]
  },
  {
   "cell_type": "code",
   "execution_count": null,
   "id": "3fbd68af",
   "metadata": {},
   "outputs": [],
   "source": [
    "px.histogram(datos, x = 'miembro_activo', text_auto = True, color = 'churn', barmode = 'group')"
   ]
  },
  {
   "cell_type": "markdown",
   "id": "86be290a",
   "metadata": {},
   "source": [
    "# S2 03\n",
    "\n",
    "Documentación\n",
    "    https://scikit-learn.org/stable/index.html"
   ]
  },
  {
   "cell_type": "markdown",
   "id": "c2965284",
   "metadata": {},
   "source": [
    "# Desafio S2 Transform\n",
    "\n",
    "Después de estudiar los conceptos de esta clase, ¡ha llegado el momento de practicar!\n",
    "\n",
    "Vamos a practicar lo que se presentó en la clase a partir de algunas actividades, pero utilizando un conjunto de datos diferente al presentado en la clase. El tema de la base de datos es la de churn de clientes. El churn es una métrica que indica a los clientes que cancelan el servicio en un determinado período de tiempo.\n",
    "\n",
    "Los desafíos siguen una secuencia de tareas, sirviendo como un proyecto secundario, que se realizará a lo largo de las clases del curso. Para realizar los desafíos, descarga la Base de datos - Desafío.\n",
    "\n",
    "Para utilizar los datos en los algoritmos de Machine Learning, necesitamos informar cuáles son las variables explicativas y cuál es la variable objetivo. En este desafío, realiza la separación de la base de datos de churn entre las variables explicativas, almacenando en una variable x y la variable objetivo en y.\n",
    "Las variables categóricas que están en formato de texto no pueden ser utilizadas directamente en los modelos de Machine Learning. En este desafío, realiza la transformación de las variables categóricas al formato numérico utilizando el OneHotEncoder, utilizando el parámetro drop='if_binary' si alguna variable tiene solo 2 categorías.\n",
    "La variable objetivo, como es de tipo categórica, también necesita pasar por un tratamiento similar al de las variables explicativas categóricas para que pueda ser utilizada en los algoritmos. En esta tarea, utiliza el método LabelEncoder para realizar la transformación de la variable churn.\n",
    "La búsqueda de la solución a cualquier desafío comienza con la exploración y comprensión profunda del problema. Tómate un tiempo para comprender la necesidad de cada cuestión y desarrolla, con base en tu aprendizaje, las posibles soluciones. Además, recuerda que la práctica constante es la clave para el perfeccionamiento. A medida que aplicas lo que aprendes, los conceptos se solidifican y se convierten en parte de tu conocimiento práctico.\n",
    "\n",
    "Base de datos\n",
    "    https://github.com/alura-es-cursos/2160-aprendiendo-a-clasificar-datos-con-ml/blob/desafio/churn.csv"
   ]
  },
  {
   "cell_type": "markdown",
   "id": "94e27d4b",
   "metadata": {},
   "source": [
    "# S3 Ajuste - 07\n",
    "\n",
    "Comprendiendo la estructura del árbol de decisión\n",
    "    https://scikit-learn.org/stable/auto_examples/tree/plot_unveil_tree_structure.html#sphx-glr-auto-examples-tree-plot-unveil-tree-structure-py\n",
    "\n",
    "DecisionTreeClassifier\n",
    "    https://scikit-learn.org/stable/modules/generated/sklearn.tree.DecisionTreeClassifier.html\n"
   ]
  },
  {
   "cell_type": "markdown",
   "id": "e6c7c2ca",
   "metadata": {},
   "source": [
    "# Desafio 3\n",
    "\n",
    "Después de estudiar los conceptos de esta clase, ¡ha llegado el momento de practicar!\n",
    "\n",
    "Vamos a practicar lo que se presentó en la clase a partir de algunas actividades, pero utilizando un conjunto de datos diferente al presentado en la clase. El tema de la base de datos es la de churn de clientes. El churn es una métrica que indica a los clientes que cancelan el servicio en un determinado período de tiempo.\n",
    "\n",
    "Los desafíos siguen una secuencia de tareas, sirviendo como un proyecto secundario, que se realizará a lo largo de las clases del curso. Para realizar los desafíos, descarga la Base de datos - Desafío.\n",
    "\n",
    "La separación de los datos entre conjunto de entrenamiento y prueba es esencial para comprender si un modelo está logrando aprender los patrones y generalizar a nuevos datos. En esta tarea, realiza la división de la base de datos entre entrenamiento y prueba de forma estratificada.\n",
    "Un modelo base es muy importante para definir un criterio de comparación para modelos más complejos. En esta etapa, crea un modelo base con el DummyClassifier y encuentra la tasa de acierto con el método score.\n",
    "El árbol de decisión es un algoritmo que realiza las clasificaciones a partir de decisiones simples tomadas a partir de los datos. Debemos tener cierto cuidado de no utilizar una profundidad muy grande, porque esto puede provocar un sobreajuste del modelo a los datos de entrenamiento. En este desafío, crea un modelo de árbol de decisión con el parámetro max_depth=4, evalúa el desempeño del modelo en los datos de prueba y visualiza las decisiones del árbol usando el método plot_tree.\n",
    "Para desarrollar este desafío, dedica un tiempo a reflexionar y explorar. Analiza cuidadosamente los datos y las instrucciones de los enunciados de cada pregunta. La colaboración puede proporcionar ideas valiosas. Por eso, no dudes en colaborar con tus compañeros en la comunidad, intercambiar ideas y compartir soluciones en conjunto.\n",
    "\n",
    "Base de datos\n",
    "    https://github.com/alura-es-cursos/2160-aprendiendo-a-clasificar-datos-con-ml/blob/desafio/churn.csv\n"
   ]
  },
  {
   "cell_type": "code",
   "execution_count": null,
   "id": "30306c05",
   "metadata": {},
   "outputs": [],
   "source": [
    "# Ahora...\n",
    "x_train, x_test, y_train, y_test = train_test_split(x, y, stratify = y,  random_state = 5)"
   ]
  },
  {
   "cell_type": "markdown",
   "id": "c11923e3",
   "metadata": {},
   "source": [
    "# Desafio 4\n",
    "Después de estudiar los conceptos de esta clase, ¡ha llegado el momento de practicar!\n",
    "\n",
    "Vamos a practicar lo que se presentó en la clase a partir de algunas actividades, pero utilizando un conjunto de datos diferente al presentado en la clase. El tema de la base de datos es la de churn de clientes. El churn es una métrica que indica a los clientes que cancelan el servicio en un determinado período de tiempo.\n",
    "\n",
    "Los desafíos siguen una secuencia de tareas, sirviendo como un proyecto secundario, que se realizará a lo largo de las clases del curso. Para realizar los desafíos, descarga la Base de datos - Desafío.\n",
    "\n",
    "La normalización de datos es una tarea importante para mantener todos los valores numéricos en una misma escala y garantizar que todas las características tengan el mismo impacto en el modelo. En esta tarea, realiza la normalización de la base de datos usando el MinMaxScaler.\n",
    "\n",
    "Con los datos normalizados, podemos utilizar el modelo KNN, que hace cálculos de distancia para encontrar los vecinos más cercanos. En esta actividad, crea un modelo KNN usando el KNeighborsClassifier con los datos normalizados y evalúa el rendimiento en los datos de prueba, también normalizados.\n",
    "\n",
    "Después de construir los modelos, es el momento de comparar los resultados y seleccionar aquel que tiene el mejor rendimiento. En este desafío, evalúa la tasa de acierto de los modelos DummyClassifier, DecisionTreeClassifier y KNeighborsClassifier que fueron construidos en los otros desafíos utilizando el método score y, a continuación, almacena el modelo con mejor precisión en un archivo pickle. Los modelos de transformación también necesitan ser almacenados, que es el caso del OneHotEncoder y del MinMaxScaler, en caso de que el KNN tenga el mejor rendimiento.\n",
    "\n",
    "Después de que el modelo está en producción, ya puede ser utilizado para clasificar nuevos datos. En este desafío, realiza la lectura de los archivos pickle de los modelos que fueron guardados en el desafío anterior y utiliza los modelos para hacer la predicción del siguiente registro:\n",
    "\n",
    "Base de datos\n",
    "    https://github.com/alura-es-cursos/2160-aprendiendo-a-clasificar-datos-con-ml/blob/desafio/churn.csv"
   ]
  },
  {
   "cell_type": "code",
   "execution_count": null,
   "id": "ef59d505",
   "metadata": {},
   "outputs": [],
   "source": []
  }
 ],
 "metadata": {
  "language_info": {
   "name": "python"
  }
 },
 "nbformat": 4,
 "nbformat_minor": 5
}
